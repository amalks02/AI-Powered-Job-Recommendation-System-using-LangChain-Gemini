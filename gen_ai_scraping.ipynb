{
  "nbformat": 4,
  "nbformat_minor": 0,
  "metadata": {
    "colab": {
      "provenance": []
    },
    "kernelspec": {
      "name": "python3",
      "display_name": "Python 3"
    },
    "language_info": {
      "name": "python"
    }
  },
  "cells": [
    {
      "cell_type": "code",
      "execution_count": null,
      "metadata": {
        "id": "rP7c8GlLvRAB"
      },
      "outputs": [],
      "source": [
        "## Scraping using serp api and saving that pdf file\n",
        "import requests\n",
        "from reportlab.lib.pagesizes import letter\n",
        "from reportlab.pdfgen import canvas\n",
        "\n",
        "API_KEY = \"API_KEY\"  # replace with your SerpAPI key\n",
        "\n",
        "def get_jobs(query, location=\"India\"):\n",
        "    url = \"https://serpapi.com/search.json\"\n",
        "    params = {\n",
        "        \"engine\": \"google_jobs\",\n",
        "        \"q\": query,\n",
        "        \"location\": location,\n",
        "        \"api_key\": API_KEY\n",
        "    }\n",
        "    response = requests.get(url, params=params)\n",
        "    data = response.json()\n",
        "\n",
        "    jobs = []\n",
        "    for job in data.get(\"jobs_results\", []):\n",
        "        jobs.append({\n",
        "            \"title\": job.get(\"title\"),\n",
        "            \"company\": job.get(\"company_name\"),\n",
        "            \"location\": job.get(\"location\"),\n",
        "            \"via\": job.get(\"via\"),\n",
        "            \"description\": job.get(\"description\"),\n",
        "            \"link\": job.get(\"link\"),\n",
        "            \"salary\": job.get(\"detected_extensions\", {}).get(\"salary\", \"Not provided\")\n",
        "        })\n",
        "    return jobs\n",
        "\n",
        "# Fetch jobs\n",
        "roles = [\"Data Analyst\", \"Data Scientist\", \"AI Engineer\"]\n",
        "all_jobs = []\n",
        "for role in roles:\n",
        "    all_jobs.extend(get_jobs(role))\n",
        "\n",
        "# Save directly to PDF\n",
        "pdf_file = \"jobs_list.pdf\"\n",
        "c = canvas.Canvas(pdf_file, pagesize=letter)\n",
        "width, height = letter\n",
        "\n",
        "y = height - 50\n",
        "for i, job in enumerate(all_jobs, start=1):\n",
        "    text = f\"{i}. {job['title']} - {job['company']} ({job['location']})\"\n",
        "    c.drawString(50, y, text)\n",
        "    y -= 15\n",
        "    c.drawString(60, y, f\"Salary: {job['salary']}\")\n",
        "    y -= 15\n",
        "    c.drawString(60, y, f\"Via: {job['via']}\")\n",
        "    y -= 15\n",
        "    c.drawString(60, y, f\"Description: {job['description'][:100]}...\")\n",
        "    y -= 15\n",
        "    c.drawString(60, y, f\"Link: {job['link']}\")\n",
        "    y -= 30  # Space between jobs\n",
        "\n",
        "    # If page is full, start a new page\n",
        "    if y < 50:\n",
        "        c.showPage()\n",
        "        y = height - 50\n",
        "\n",
        "c.save()\n",
        "print(f\"Jobs saved to {pdf_file}\")\n"
      ]
    }
  ]
}